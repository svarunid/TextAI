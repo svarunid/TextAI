{
 "cells": [
  {
   "cell_type": "code",
   "execution_count": 1,
   "id": "500e0e38",
   "metadata": {},
   "outputs": [],
   "source": [
    "def load_data(path: str):\n",
    "    with open(path, encoding=\"utf-8\") as f:\n",
    "        return f.readlines()"
   ]
  },
  {
   "cell_type": "code",
   "execution_count": 2,
   "id": "f8e3a87e",
   "metadata": {},
   "outputs": [],
   "source": [
    "en = load_data(\"./en_fr/en.txt\")\n",
    "fr = load_data(\"./en_fr/fr.txt\")"
   ]
  },
  {
   "cell_type": "code",
   "execution_count": 3,
   "id": "23ecf360",
   "metadata": {},
   "outputs": [],
   "source": [
    "import string, random\n",
    "\n",
    "def add_noise(sentence, noise = 0.05):\n",
    "    \"\"\"\n",
    "    Adds noise to a sentence by randomly modifying the characters.\n",
    "    \"\"\"\n",
    "    charset = string.ascii_letters\n",
    "    modsentence = []\n",
    "    for word in sentence.split(\" \"):\n",
    "        modword = \"\"\n",
    "        for char in word:\n",
    "            rchar = random.choice(charset)\n",
    "            if random.uniform(0, 1) < noise:\n",
    "                choice = random.choice((\"delete\", \"insert\", \"replace\"))\n",
    "                if choice == \"delete\":\n",
    "                    continue\n",
    "                elif choice == \"insert\":\n",
    "                    modword += rchar\n",
    "                else:\n",
    "                    modword += rchar\n",
    "                    continue\n",
    "            modword += char\n",
    "        modsentence.append(modword)\n",
    "    return ' '.join(modsentence)"
   ]
  },
  {
   "cell_type": "code",
   "execution_count": 4,
   "id": "2a48740c",
   "metadata": {},
   "outputs": [
    {
     "name": "stdout",
     "output_type": "stream",
     "text": [
      "This is a brown fox.\n"
     ]
    }
   ],
   "source": [
    "sentence = \"This is a brown fox.\"\n",
    "print(add_noise(sentence))"
   ]
  },
  {
   "cell_type": "code",
   "execution_count": 7,
   "id": "28176b47",
   "metadata": {},
   "outputs": [],
   "source": [
    "import unicodedata\n",
    "\n",
    "en = [add_noise(unicodedata.normalize(\"NFC\", sentence)) for sentence in en]\n",
    "fr = [unicodedata.normalize(\"NFC\", sentence) for sentence in fr]"
   ]
  },
  {
   "cell_type": "code",
   "execution_count": 8,
   "id": "5f5e048e",
   "metadata": {},
   "outputs": [
    {
     "name": "stdout",
     "output_type": "stream",
     "text": [
      "English: Approval of the minutes o te previous stting: see Minutes\n",
      "French: Approbation du procès-verbal de la séance précédente: voir procès-verbal\n",
      "\n",
      "English: 5\n",
      "French: 5.\n",
      "\n",
      "English: kvironmteCtal quDlity standards in the uield of water policy (votV)\n",
      "French: Normes de qualité environnementale dans le domaine de l'eau (vote)\n",
      "\n",
      "English: - Report: LNaperrouze\n",
      "French: Rapport: Laperrouze\n",
      "\n",
      "English: Approval of the inuWtes\n",
      "French: Adoption du procès-verbal\n",
      "\n"
     ]
    }
   ],
   "source": [
    "for i in range(5):\n",
    "    print(f\"English: {en[i]}\", end=\"\")\n",
    "    print(f\"French: {fr[i]}\")"
   ]
  },
  {
   "cell_type": "code",
   "execution_count": 11,
   "id": "b66fa856",
   "metadata": {},
   "outputs": [],
   "source": [
    "with open(\"en_fr/en_noise.txt\", \"w\", encoding = \"utf-8\") as f:\n",
    "    for sentence in en:\n",
    "        f.write(f\"{sentence}\\n\")"
   ]
  },
  {
   "cell_type": "code",
   "execution_count": null,
   "id": "a8697f00",
   "metadata": {},
   "outputs": [],
   "source": [
    "import sentencepiece as spm\n",
    "\n",
    "spm.SentencePieceTrainer.train(\"--input=en_fr/en_noise.txt --model_prefix=en --vocab_size=2000\")\n",
    "spm.SentencePieceTrainer.train(\"--input=en_fr/fr.txt --model_prefix=fr --vocab_size=2000\")"
   ]
  },
  {
   "cell_type": "code",
   "execution_count": null,
   "id": "a4ac315b",
   "metadata": {},
   "outputs": [],
   "source": []
  }
 ],
 "metadata": {
  "kernelspec": {
   "display_name": "Python 3 (ipykernel)",
   "language": "python",
   "name": "python3"
  },
  "language_info": {
   "codemirror_mode": {
    "name": "ipython",
    "version": 3
   },
   "file_extension": ".py",
   "mimetype": "text/x-python",
   "name": "python",
   "nbconvert_exporter": "python",
   "pygments_lexer": "ipython3",
   "version": "3.10.13"
  }
 },
 "nbformat": 4,
 "nbformat_minor": 5
}
