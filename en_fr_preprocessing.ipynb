{
 "cells": [
  {
   "cell_type": "code",
   "execution_count": 1,
   "id": "500e0e38",
   "metadata": {},
   "outputs": [],
   "source": [
    "def load_data(path: str):\n",
    "    with open(path, encoding=\"utf-8\") as f:\n",
    "        return f.readlines()"
   ]
  },
  {
   "cell_type": "code",
   "execution_count": 2,
   "id": "f8e3a87e",
   "metadata": {},
   "outputs": [],
   "source": [
    "en = load_data(\"./en_fr/en.txt\")\n",
    "fr = load_data(\"./en_fr/fr.txt\")"
   ]
  },
  {
   "cell_type": "code",
   "execution_count": 3,
   "id": "23ecf360",
   "metadata": {},
   "outputs": [],
   "source": [
    "import string, random\n",
    "\n",
    "def add_noise(sentence, noise=0.05):\n",
    "    \"\"\"\n",
    "    Adds noise to a sentence by randomly modifying the characters.\n",
    "    \"\"\"\n",
    "    if not 0 <= noise <= 1:\n",
    "        raise ValueError(\"Noise must be between 0 and 1\")\n",
    "\n",
    "    modsentence = []\n",
    "    for char in sentence:\n",
    "        if random.random() < noise:\n",
    "            choice = random.choice([\"delete\", \"insert\", \"replace\"])\n",
    "            new_char = random.choice(string.ascii_letters)\n",
    "            if choice == \"delete\":\n",
    "                continue\n",
    "            elif choice == \"insert\":\n",
    "                modsentence.append(new_char)\n",
    "            elif choice == \"replace\":\n",
    "                char = new_char\n",
    "        modsentence.append(char)\n",
    "        \n",
    "    return ''.join(modsentence)"
   ]
  },
  {
   "cell_type": "code",
   "execution_count": 4,
   "id": "2a48740c",
   "metadata": {},
   "outputs": [
    {
     "name": "stdout",
     "output_type": "stream",
     "text": [
      "This s a brown fox.\n"
     ]
    }
   ],
   "source": [
    "sentence = \"This is a brown fox.\"\n",
    "print(add_noise(sentence))"
   ]
  },
  {
   "cell_type": "code",
   "execution_count": 5,
   "id": "28176b47",
   "metadata": {},
   "outputs": [],
   "source": [
    "import unicodedata\n",
    "\n",
    "en = [add_noise(unicodedata.normalize(\"NFC\", sentence[:-1]), noise=0.01) for sentence in en]\n",
    "fr = [unicodedata.normalize(\"NFC\", sentence[:-1]) for sentence in fr]"
   ]
  },
  {
   "cell_type": "code",
   "execution_count": 6,
   "id": "5f5e048e",
   "metadata": {},
   "outputs": [
    {
     "name": "stdout",
     "output_type": "stream",
     "text": [
      "English: Approval of the minutesLof the previous sAitting: see Minutes\n",
      "French: Approbation du procès-verbal de la séance précédente: voir procès-verbal\n",
      "English: 5.\n",
      "French: 5.\n",
      "English: Environmental quality standards in the field of water policy (vote)\n",
      "French: Normes de qualité environnementale dans le domaine de l'eau (vote)\n",
      "English: - Report: Laperrouze\n",
      "French: Rapport: Laperrouze\n",
      "English: Aprroval of the Minutes\n",
      "French: Adoption du procès-verbal\n"
     ]
    }
   ],
   "source": [
    "for i in range(5):\n",
    "    print(f\"English: {en[i]}\")\n",
    "    print(f\"French: {fr[i]}\")"
   ]
  },
  {
   "cell_type": "code",
   "execution_count": 7,
   "id": "1b5bac11",
   "metadata": {},
   "outputs": [
    {
     "data": {
      "text/plain": [
       "2455458"
      ]
     },
     "execution_count": 7,
     "metadata": {},
     "output_type": "execute_result"
    }
   ],
   "source": [
    "len(en)"
   ]
  },
  {
   "cell_type": "code",
   "execution_count": 8,
   "id": "5e34d50c",
   "metadata": {},
   "outputs": [],
   "source": [
    "import sentencepiece as spm\n",
    "\n",
    "def train_spm(it, prefix, vocab=2_000, sentence_size=50_000, model_type=\"bpe\"):\n",
    "    spm.SentencePieceTrainer.train(sentence_iterator=iter(it), \n",
    "                                   model_prefix=prefix, \n",
    "                                   vocab_size=vocab, \n",
    "                                   model_type=\"bpe\", \n",
    "                                   normalization_rule_name=\"identity\", \n",
    "                                   input_sentence_size=sentence_size, \n",
    "                                   shuffle_input_sentence=True)"
   ]
  },
  {
   "cell_type": "code",
   "execution_count": 9,
   "id": "a8697f00",
   "metadata": {},
   "outputs": [],
   "source": [
    "train_spm(en, \"en\", vocab=5_000, sentence_size=1_000_000)\n",
    "train_spm(fr, \"fr\", vocab=5_000, sentence_size=1_000_000)"
   ]
  },
  {
   "cell_type": "code",
   "execution_count": 10,
   "id": "a4ac315b",
   "metadata": {},
   "outputs": [],
   "source": [
    "def load_spm(prefix):\n",
    "    local_spm = spm.SentencePieceProcessor(model_file=f\"./{prefix}.model\")\n",
    "    return local_spm"
   ]
  },
  {
   "cell_type": "code",
   "execution_count": 11,
   "id": "0a9de83a",
   "metadata": {},
   "outputs": [],
   "source": [
    "en_spm = load_spm(\"en\")\n",
    "fr_spm = load_spm(\"fr\")"
   ]
  },
  {
   "cell_type": "code",
   "execution_count": 12,
   "id": "1243cd9f",
   "metadata": {},
   "outputs": [
    {
     "name": "stdout",
     "output_type": "stream",
     "text": [
      "English vocab:5000\n",
      "French vocab:5000\n"
     ]
    }
   ],
   "source": [
    "# Checking the vocab size\n",
    "print(f\"English vocab:{en_spm.get_piece_size()}\")\n",
    "print(f\"French vocab:{fr_spm.get_piece_size()}\")"
   ]
  },
  {
   "cell_type": "code",
   "execution_count": 20,
   "id": "c7ed4ea5",
   "metadata": {},
   "outputs": [],
   "source": [
    "import pickle\n",
    "\n",
    "with open(\"./en_fr/en_enc.pickle\", \"wb\") as en_f, open(\"./en_fr/fr_enc.pickle\", \"wb\") as fr_f:\n",
    "    en_enc = en_spm.encode(en)\n",
    "    fr_enc = fr_spm.encode(fr, add_bos=True, add_eos=True)\n",
    "    pickle.dump(en_enc, en_f)\n",
    "    pickle.dump(fr_enc, fr_f)"
   ]
  }
 ],
 "metadata": {
  "kernelspec": {
   "display_name": "Python 3 (ipykernel)",
   "language": "python",
   "name": "python3"
  },
  "language_info": {
   "codemirror_mode": {
    "name": "ipython",
    "version": 3
   },
   "file_extension": ".py",
   "mimetype": "text/x-python",
   "name": "python",
   "nbconvert_exporter": "python",
   "pygments_lexer": "ipython3",
   "version": "3.10.13"
  }
 },
 "nbformat": 4,
 "nbformat_minor": 5
}
