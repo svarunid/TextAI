{
 "cells": [
  {
   "cell_type": "code",
   "execution_count": 1,
   "id": "54365462",
   "metadata": {},
   "outputs": [],
   "source": [
    "import numpy as np\n",
    "import matplotlib.pyplot as plt\n",
    "import torch\n",
    "import torch.nn as nn\n",
    "import torch.optim as optim"
   ]
  },
  {
   "cell_type": "code",
   "execution_count": 2,
   "id": "500e0e38",
   "metadata": {},
   "outputs": [],
   "source": [
    "def load_data(path: str):\n",
    "    with open(path, encoding=\"utf-8\") as f:\n",
    "        return f.readlines()"
   ]
  },
  {
   "cell_type": "code",
   "execution_count": 3,
   "id": "f8e3a87e",
   "metadata": {},
   "outputs": [],
   "source": [
    "en = load_data(\"./en_fr/en.txt\")\n",
    "fr = load_data(\"./en_fr/fr.txt\")"
   ]
  },
  {
   "cell_type": "code",
   "execution_count": 45,
   "id": "23ecf360",
   "metadata": {},
   "outputs": [],
   "source": [
    "import string, random\n",
    "\n",
    "def add_noise(sentence, noise = 0.05):\n",
    "    \"\"\"\n",
    "    Adds noise to a sentence by randomly modifying the characters.\n",
    "    \"\"\"\n",
    "    charset = string.ascii_letters\n",
    "    modsentence = []\n",
    "    for word in sentence.split(\" \"):\n",
    "        modword = \"\"\n",
    "        for char in word:\n",
    "            rchar = random.choice(charset)\n",
    "            if random.uniform(0, 1) < noise:\n",
    "                choice = random.choice((\"delete\", \"insert\", \"replace\"))\n",
    "                if choice == \"delete\":\n",
    "                    continue\n",
    "                elif choice == \"insert\":\n",
    "                    modword += rchar\n",
    "                elif choice == \"replace\":\n",
    "                    modword += rchar\n",
    "                    continue\n",
    "            modword += char\n",
    "        modsentence.append(modword)\n",
    "    return ' '.join(modsentence)"
   ]
  },
  {
   "cell_type": "code",
   "execution_count": 41,
   "id": "2a48740c",
   "metadata": {},
   "outputs": [
    {
     "name": "stdout",
     "output_type": "stream",
     "text": [
      "dhis is a bown fox.\n"
     ]
    }
   ],
   "source": [
    "sentence = \"This is a brown fox.\"\n",
    "print(add_noise(sentence))"
   ]
  },
  {
   "cell_type": "code",
   "execution_count": 43,
   "id": "28176b47",
   "metadata": {},
   "outputs": [],
   "source": [
    "import unicodedata\n",
    "\n",
    "en = [unicodedata.normalize(\"NFC\", sentence) for sentence in en]\n",
    "fr = [unicodedata.normalize(\"NFC\", sentence) for sentence in fr]"
   ]
  },
  {
   "cell_type": "code",
   "execution_count": 44,
   "id": "5f5e048e",
   "metadata": {},
   "outputs": [
    {
     "name": "stdout",
     "output_type": "stream",
     "text": [
      "English: Approval of the minutes of the previous sitting: see Minutes\n",
      "French: Approbation du procès-verbal de la séance précédente: voir procès-verbal\n",
      "\n",
      "English: 5.\n",
      "French: 5.\n",
      "\n",
      "English: Environmental quality standards in the field of water policy (vote)\n",
      "French: Normes de qualité environnementale dans le domaine de l'eau (vote)\n",
      "\n",
      "English: - Report: Laperrouze\n",
      "French: Rapport: Laperrouze\n",
      "\n",
      "English: Approval of the Minutes\n",
      "French: Adoption du procès-verbal\n",
      "\n"
     ]
    }
   ],
   "source": [
    "for i in range(5):\n",
    "    print(f\"English: {en[i]}\", end=\"\")\n",
    "    print(f\"French: {fr[i]}\")"
   ]
  },
  {
   "cell_type": "code",
   "execution_count": null,
   "id": "a8697f00",
   "metadata": {},
   "outputs": [],
   "source": []
  }
 ],
 "metadata": {
  "kernelspec": {
   "display_name": "Python 3 (ipykernel)",
   "language": "python",
   "name": "python3"
  },
  "language_info": {
   "codemirror_mode": {
    "name": "ipython",
    "version": 3
   },
   "file_extension": ".py",
   "mimetype": "text/x-python",
   "name": "python",
   "nbconvert_exporter": "python",
   "pygments_lexer": "ipython3",
   "version": "3.10.13"
  }
 },
 "nbformat": 4,
 "nbformat_minor": 5
}
